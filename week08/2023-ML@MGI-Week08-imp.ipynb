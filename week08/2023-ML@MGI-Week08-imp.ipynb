{
 "cells": [
  {
   "cell_type": "markdown",
   "metadata": {},
   "source": [
    "# Introduction\n",
    "\n",
    "* Familiar with TensorFlow components `tf.Tensor`.\n",
    "* Manage your own TensorFlow program (a `tf.Graph`)\n",
    "* Run TensorFlow operations, using a `tf.Session`."
   ]
  },
  {
   "cell_type": "markdown",
   "metadata": {},
   "source": [
    "TensorFlow 的基本運算單位是張量（Tensor），零維張量等於是純量(Scalar)，一維張量是向量(Vector)，二維張量是矩陣(Matrix)等等。和Numpy相對比，ndarray（n 維陣列）觀念與 Tensor（n 維張量）觀念類似以外，TensorFlow 函數的命名、參數與設計概念都很接近 NumPy。\n",
    "\n",
    "複習一下Tensorflow主要的運作流程分為以下兩個部分\n",
    "* 建立模型(Build Model)\n",
    "* 執行運算(Run)\n",
    "\n",
    "Tensorflow設計的核心就是Tensor的流動，建立Graph的過程其實只是定義好Tensor如何流動並運算的過程，但真正的資料其實並沒有被運算，真正的計算需要用session來執行。\n",
    "![graph](https://www.tensorflow.org/images/tensors_flowing.gif)"
   ]
  },
  {
   "cell_type": "markdown",
   "metadata": {},
   "source": [
    "# Use tensorflow"
   ]
  },
  {
   "cell_type": "code",
   "execution_count": 1,
   "metadata": {},
   "outputs": [],
   "source": [
    "%matplotlib inline"
   ]
  },
  {
   "cell_type": "code",
   "execution_count": 2,
   "metadata": {},
   "outputs": [],
   "source": [
    "import numpy as np\n",
    "import tensorflow as tf\n",
    "import pandas as pd\n",
    "from matplotlib import pyplot as plt"
   ]
  },
  {
   "cell_type": "code",
   "execution_count": 3,
   "metadata": {},
   "outputs": [
    {
     "name": "stdout",
     "output_type": "stream",
     "text": [
      "TensorFlow version: 2.6.0\n",
      "tf.Tensor(b'Hello World', shape=(), dtype=string)\n"
     ]
    }
   ],
   "source": [
    "print(\"TensorFlow version:\", tf.__version__)\n",
    "hw = tf.constant(\"Hello World\")\n",
    "print(hw)"
   ]
  },
  {
   "cell_type": "code",
   "execution_count": 4,
   "metadata": {},
   "outputs": [
    {
     "name": "stdout",
     "output_type": "stream",
     "text": [
      "TensorFlow **IS** using the GPU\n"
     ]
    }
   ],
   "source": [
    "if tf.config.list_physical_devices('GPU'):\n",
    "  print(\"TensorFlow **IS** using the GPU\")\n",
    "else:\n",
    "  print(\"TensorFlow **IS NOT** using the GPU\")"
   ]
  },
  {
   "cell_type": "code",
   "execution_count": 5,
   "metadata": {},
   "outputs": [
    {
     "name": "stdout",
     "output_type": "stream",
     "text": [
      "tf.Tensor(\n",
      "[[1. 3.]\n",
      " [3. 7.]], shape=(2, 2), dtype=float32)\n"
     ]
    }
   ],
   "source": [
    "\n",
    "# Build a dataflow graph.\n",
    "c = tf.constant([[1.0, 2.0], [3.0, 4.0]])\n",
    "d = tf.constant([[1.0, 1.0], [0.0, 1.0]])\n",
    "e = tf.matmul(c, d)\n",
    "print(e)\n",
    "\n"
   ]
  },
  {
   "cell_type": "markdown",
   "metadata": {},
   "source": [
    "# What is tensor?\n",
    "\n",
    "寫Tensorflow的程式其實就是在操縱Tensor物件，計算就是在講這些Tensor的流動。\n",
    "\n",
    "`tf.Tensor` 有以下三種屬性(properties):\n",
    "\n",
    " * a data type (`float32`, `int32`, `complex64`,or `string`, for example)\n",
    " \n",
    " Use `dtype` to get data type attribute\n",
    "\n",
    " * a shape\n",
    " \n",
    " Use `shape` to get shape attribute\n",
    "\n",
    " * value\n",
    " \n",
    " Use `numpy()` method to get value of tensor.\n",
    "\n",
    "同屬一個Tensor物件的所有元素都具有相同的資料屬性(data type)。而且建立Tensor物件時就會確定data type。\n",
    "\n",
    "## About data type\n",
    "The following DType objects are defined:\n",
    "\n",
    "    * tf.float16: 16-bit half-precision floating-point.\n",
    "    * tf.float32: 32-bit single-precision floating-point.\n",
    "    * tf.float64: 64-bit double-precision floating-point.\n",
    "    * tf.bfloat16: 16-bit truncated floating-point.\n",
    "    * tf.complex64: 64-bit single-precision complex.\n",
    "    * tf.complex128: 128-bit double-precision complex.\n",
    "    * tf.int8: 8-bit signed integer.\n",
    "    * tf.uint8: 8-bit unsigned integer.\n",
    "    * tf.uint16: 16-bit unsigned integer.\n",
    "    * tf.uint32: 32-bit unsigned integer.\n",
    "    * tf.uint64: 64-bit unsigned integer.\n",
    "    * tf.int16: 16-bit signed integer.\n",
    "    * tf.int32: 32-bit signed integer.\n",
    "    * tf.int64: 64-bit signed integer.\n",
    "    * tf.bool: Boolean.\n",
    "    * tf.string: String.\n",
    "    * tf.qint8: Quantized 8-bit signed integer.\n",
    "    * tf.quint8: Quantized 8-bit unsigned integer.\n",
    "    * tf.qint16: Quantized 16-bit signed integer.\n",
    "    * tf.quint16: Quantized 16-bit unsigned integer.\n",
    "    * tf.qint32: Quantized 32-bit signed integer.\n",
    "    * tf.resource: Handle to a mutable resource.\n",
    "    * tf.variant: Values of arbitrary types."
   ]
  },
  {
   "cell_type": "markdown",
   "metadata": {},
   "source": [
    "## Rank\n",
    "\n",
    "這裡講的Tensor rank和Tensor array的dimensions不同，前者講的是單一元素(element)的性質，後者講的是一群元素集合的性質。\n",
    "\n",
    "Rank | Math entity\n",
    "--- | ---\n",
    "0 | Scalar (magnitude only)\n",
    "1 | Vector (magnitude and direction)\n",
    "2 | Matrix (table of numbers)\n",
    "3 | 3-Tensor (cube of numbers)\n",
    "n | n-Tensor (you get the idea)\n",
    "\n",
    "\n",
    "Note that rank in TensorFlow is not the same as matrix rank in mathematics."
   ]
  },
  {
   "cell_type": "markdown",
   "metadata": {},
   "source": [
    "### Rank 0\n",
    "\n",
    "\"scalar\" or \"rank-0\" tensor . A scalar contains a single value, and no \"axes\".\n",
    "\n",
    "Note: A string is treated as a single object in TensorFlow, not as a sequence of\n",
    "characters. It is possible to have scalar strings, vectors of strings, etc."
   ]
  },
  {
   "cell_type": "code",
   "execution_count": 6,
   "metadata": {},
   "outputs": [
    {
     "name": "stdout",
     "output_type": "stream",
     "text": [
      "TensorFlow:\n",
      "tf.Tensor(4, shape=(), dtype=int32)\n",
      "tf.Tensor(b'Hello Tensorflow', shape=(), dtype=string)\n"
     ]
    }
   ],
   "source": [
    "# This will be an int32 tensor by default; see \"dtypes\" below.\n",
    "rank_0_tensor_int = tf.constant(4)\n",
    "rank_0_tensor_str = tf.constant(\"Hello Tensorflow\")\n",
    "print(\"TensorFlow:\")\n",
    "print(rank_0_tensor_int)\n",
    "print(rank_0_tensor_str)"
   ]
  },
  {
   "cell_type": "code",
   "execution_count": 7,
   "metadata": {},
   "outputs": [
    {
     "name": "stdout",
     "output_type": "stream",
     "text": [
      "Python:\n",
      "<class 'int'>\n",
      "<class 'str'>\n"
     ]
    }
   ],
   "source": [
    "rank_0_int=4\n",
    "rank_0_str=\"Hello Tensorflow\"\n",
    "\n",
    "print(\"Python:\")\n",
    "print(type(rank_0_int))\n",
    "print(type(rank_0_str))"
   ]
  },
  {
   "cell_type": "markdown",
   "metadata": {},
   "source": [
    "### Rank 1\n",
    "\n",
    "A \"vector\" or \"rank-1\" tensor is like a list of values. A vector has one axis:\n",
    "\n",
    "To create a rank 1 `tf.Tensor` object, you can pass a list of items as the\n",
    "initial value. For example:\n"
   ]
  },
  {
   "cell_type": "code",
   "execution_count": 8,
   "metadata": {},
   "outputs": [
    {
     "name": "stdout",
     "output_type": "stream",
     "text": [
      "TensorFlow:\n",
      "tf.Tensor([2. 3. 4.], shape=(3,), dtype=float32)\n",
      "tf.Tensor([12.3-4.85j  7.5-6.23j], shape=(2,), dtype=complex128)\n",
      "tf.Tensor([b'Hello'], shape=(1,), dtype=string)\n"
     ]
    }
   ],
   "source": [
    "# Let's make this a float tensor.\n",
    "rank_1_tensor_float = tf.constant([2.0, 3.0, 4.0])\n",
    "rank_1_tensor_complex = tf.constant([12.3 - 4.85j, 7.5 - 6.23j])\n",
    "rank_1_tensor_str = tf.constant([\"Hello\"])\n",
    "print(\"TensorFlow:\")\n",
    "print(rank_1_tensor_float)\n",
    "print(rank_1_tensor_complex)\n",
    "print(rank_1_tensor_str)"
   ]
  },
  {
   "cell_type": "code",
   "execution_count": 9,
   "metadata": {},
   "outputs": [
    {
     "name": "stdout",
     "output_type": "stream",
     "text": [
      "Python:\n",
      "<class 'list'>\n",
      "<class 'list'>\n",
      "<class 'list'>\n"
     ]
    }
   ],
   "source": [
    "# Let's make this a float tensor.\n",
    "rank_1_float = [2.0, 3.0, 4.0]\n",
    "rank_1_complex = [12.3 - 4.85j, 7.5 - 6.23j]\n",
    "rank_1_str = [\"Hello\"]\n",
    "print(\"Python:\")\n",
    "print(type(rank_1_float))\n",
    "print(type(rank_1_complex))\n",
    "print(type(rank_1_str))"
   ]
  },
  {
   "cell_type": "markdown",
   "metadata": {},
   "source": [
    "### Rank 2\n",
    "\n",
    "A \"matrix\" or \"rank-2\" tensor has two axes:\n",
    "\n",
    "A rank 2 `tf.Tensor` object consists of at least one row and at least\n",
    "one column:"
   ]
  },
  {
   "cell_type": "code",
   "execution_count": 10,
   "metadata": {},
   "outputs": [
    {
     "name": "stdout",
     "output_type": "stream",
     "text": [
      "tf.Tensor(\n",
      "[[1. 2.]\n",
      " [3. 4.]\n",
      " [5. 6.]], shape=(3, 2), dtype=float16)\n",
      "tf.Tensor([[1 2 3 4]], shape=(1, 4), dtype=int32)\n",
      "tf.Tensor(\n",
      "[[b'Hellow']\n",
      " [b'Tensorflow']\n",
      " [b'!']], shape=(3, 1), dtype=string)\n"
     ]
    }
   ],
   "source": [
    "# If you want to be specific, you can set the dtype (see below) at creation time\n",
    "rank_2_tensor_float = tf.constant([[1, 2],\n",
    "                                   [3, 4],\n",
    "                                   [5, 6]], dtype=tf.float16)\n",
    "rank_2_tensor_int = tf.constant([[1, 2, 3, 4]], dtype=tf.int32)\n",
    "rank_2_tensor_str = tf.constant([[\"Hellow\"],\n",
    "                                 [\"Tensorflow\"],\n",
    "                                 [\"!\"]], dtype=tf.string)\n",
    "print(rank_2_tensor_float)\n",
    "print(rank_2_tensor_int)\n",
    "print(rank_2_tensor_str)"
   ]
  },
  {
   "cell_type": "markdown",
   "metadata": {},
   "source": [
    "<table>\n",
    "<tr>\n",
    "  <th>A scalar, shape: <code>[]</code></th>\n",
    "  <th>A vector, shape: <code>[3]</code></th>\n",
    "  <th>A matrix, shape: <code>[3, 2]</code></th>\n",
    "</tr>\n",
    "<tr>\n",
    "  <td>\n",
    "   <img src=\"./images/tensor/scalar.png\" alt=\"A scalar, the number 4\" />\n",
    "  </td>\n",
    "\n",
    "  <td>\n",
    "   <img src=\"./images/tensor/vector.png\" alt=\"The line with 3 sections, each one containing a number.\"/>\n",
    "  </td>\n",
    "  <td>\n",
    "   <img src=\"./images/tensor/matrix.png\" alt=\"A 3x2 grid, with each cell containing a number.\">\n",
    "  </td>\n",
    "</tr>\n",
    "</table>\n"
   ]
  },
  {
   "cell_type": "markdown",
   "metadata": {},
   "source": [
    "### Rank 3\n",
    "Tensors may have more axes; here is a tensor with three axes:"
   ]
  },
  {
   "cell_type": "code",
   "execution_count": 11,
   "metadata": {},
   "outputs": [
    {
     "name": "stdout",
     "output_type": "stream",
     "text": [
      "tf.Tensor(\n",
      "[[[ 0  1  2  3  4]\n",
      "  [ 5  6  7  8  9]]\n",
      "\n",
      " [[10 11 12 13 14]\n",
      "  [15 16 17 18 19]]\n",
      "\n",
      " [[20 21 22 23 24]\n",
      "  [25 26 27 28 29]]], shape=(3, 2, 5), dtype=int32)\n"
     ]
    }
   ],
   "source": [
    "# There can be an arbitrary number of\n",
    "# axes (sometimes called \"dimensions\")\n",
    "rank_3_tensor = tf.constant([\n",
    "  [[0, 1, 2, 3, 4],\n",
    "   [5, 6, 7, 8, 9]],\n",
    "  [[10, 11, 12, 13, 14],\n",
    "   [15, 16, 17, 18, 19]],\n",
    "  [[20, 21, 22, 23, 24],\n",
    "   [25, 26, 27, 28, 29]],])\n",
    "\n",
    "print(rank_3_tensor)"
   ]
  },
  {
   "cell_type": "markdown",
   "metadata": {},
   "source": [
    "<table>\n",
    "<tr>\n",
    "  <th colspan=3>A 3-axis tensor, shape: <code>[3, 2, 5]</code></th>\n",
    "<tr>\n",
    "<tr>\n",
    "  <td>\n",
    "   <img src=\"images/tensor/3-axis_numpy.png\"/>\n",
    "  </td>\n",
    "  <td>\n",
    "   <img src=\"images/tensor/3-axis_front.png\"/>\n",
    "  </td>\n",
    "\n",
    "  <td>\n",
    "   <img src=\"images/tensor/3-axis_block.png\"/>\n",
    "  </td>\n",
    "</tr>\n",
    "\n",
    "</table>"
   ]
  },
  {
   "cell_type": "markdown",
   "metadata": {},
   "source": [
    "### Getting a `tf.Tensor` object's rank\n",
    "\n",
    "To determine the rank of a `tf.Tensor` object, call the `tf.rank` method."
   ]
  },
  {
   "cell_type": "code",
   "execution_count": 12,
   "metadata": {
    "tags": []
   },
   "outputs": [
    {
     "name": "stdout",
     "output_type": "stream",
     "text": [
      "tf.Tensor(4, shape=(), dtype=int32)\n"
     ]
    }
   ],
   "source": [
    "my_image = tf.zeros([10, 299, 299, 3])  # batch x height x width x color\n",
    "r = tf.rank(my_image)\n",
    "print(r)"
   ]
  },
  {
   "cell_type": "markdown",
   "metadata": {},
   "source": [
    "## About shapes\n",
    "shape指的是Tensor集合(array)的維度(dimensions)數量，還有各維度的大小，有時可以有彈性不用指定全部的維度大小，留待runtime才決定。\n",
    "* **Shape**: The length (number of elements) of each of the axes of a tensor.\n",
    "* **Rank**: Number of tensor axes.  A scalar has rank 0, a vector has rank 1, a matrix is rank 2.\n",
    "* **Axis** or **Dimension**: A particular dimension of a tensor.\n",
    "* **Size**: The total number of items in the tensor, the product shape vector."
   ]
  },
  {
   "cell_type": "code",
   "execution_count": 13,
   "metadata": {
    "tags": []
   },
   "outputs": [],
   "source": [
    "rank_4_tensor = tf.zeros([3, 2, 4, 5])"
   ]
  },
  {
   "cell_type": "code",
   "execution_count": 14,
   "metadata": {
    "tags": []
   },
   "outputs": [
    {
     "name": "stdout",
     "output_type": "stream",
     "text": [
      "Type of every element: <dtype: 'float32'>\n",
      "Shape of tensor: (3, 2, 4, 5)\n",
      "Elements along axis 0 of tensor: 3\n",
      "Elements along the last axis of tensor: 5\n"
     ]
    }
   ],
   "source": [
    "print(\"Type of every element:\", rank_4_tensor.dtype)\n",
    "print(\"Shape of tensor:\", rank_4_tensor.shape)\n",
    "print(\"Elements along axis 0 of tensor:\", rank_4_tensor.shape[0])\n",
    "print(\"Elements along the last axis of tensor:\", rank_4_tensor.shape[-1])"
   ]
  },
  {
   "cell_type": "markdown",
   "metadata": {},
   "source": [
    "While axes are often referred to by their indices, you should always keep track of the meaning of each. Often axes are ordered from global to local: The batch axis first, followed by spatial dimensions, and features for each location last. This way feature vectors are contiguous regions of memory.\n",
    "\n",
    "<table>\n",
    "<tr>\n",
    "<th>Typical axis order</th>\n",
    "</tr>\n",
    "<tr>\n",
    "    <td>\n",
    "<img src=\"images/tensor/shape2.png\" alt=\"Keep track of what each axis is. A 4-axis tensor might be: Batch, Width, Height, Features\">\n",
    "  </td>\n",
    "</tr>\n",
    "</table>"
   ]
  },
  {
   "cell_type": "markdown",
   "metadata": {},
   "source": [
    "<table>\n",
    "<tr>\n",
    "  <th colspan=2>A rank-4 tensor, shape: <code>[3, 2, 4, 5]</code></th>\n",
    "</tr>\n",
    "<tr>\n",
    "  <td>\n",
    "<img src=\"images/tensor/shape.png\" alt=\"A tensor shape is like a vector.\">\n",
    "    <td>\n",
    "<img src=\"images/tensor/4-axis_block.png\" alt=\"A 4-axis tensor\">\n",
    "  </td>\n",
    "  </tr>\n",
    "</table>"
   ]
  },
  {
   "cell_type": "markdown",
   "metadata": {},
   "source": [
    "## Shape\n",
    "\n",
    "The **shape** of a tensor is the **number of elements** in each dimension.\n",
    "TensorFlow automatically infers shapes during graph construction. These inferred\n",
    "shapes might have known or unknown rank. If the rank is known, the sizes of each\n",
    "dimension might be known or unknown.\n",
    "\n",
    "The TensorFlow documentation uses three notational conventions to describe\n",
    "tensor dimensionality: rank, shape, and dimension number. The following table\n",
    "shows how these relate to one another:\n",
    "\n",
    "Rank | Shape | Dimension number | Example\n",
    "--- | --- | --- | ---\n",
    "0 | [] | 0-D | A 0-D tensor.  A scalar.\n",
    "1 | [D0] | 1-D | A 1-D tensor with shape [5].\n",
    "2 | [D0, D1] | 2-D | A 2-D tensor with shape [3, 4].\n",
    "3 | [D0, D1, D2] | 3-D | A 3-D tensor with shape [1, 4, 3].\n",
    "n | [D0, D1, ... Dn-1] | n-D | A tensor with shape [D0, D1, ... Dn-1].\n",
    "\n",
    "Shapes can be represented via Python lists / tuples of ints, or with the\n",
    "`tf.TensorShape`.\n"
   ]
  },
  {
   "cell_type": "markdown",
   "metadata": {},
   "source": [
    "## About value"
   ]
  },
  {
   "cell_type": "markdown",
   "metadata": {},
   "source": [
    "### Graph\n",
    "\n",
    "A **computational graph** is a series of TensorFlow operations arranged into a\n",
    "graph. The graph is composed of two types of objects.\n",
    "\n",
    "  * `tf.Tensor`: The edges in the graph. These represent the values\n",
    "    that will flow through the graph. Most TensorFlow functions return\n",
    "    `tf.Tensors`.\n",
    "  * `tf.Operation` (or \"ops\"): The nodes of the graph.\n",
    "    Operations describe calculations that consume and produce tensors.\n",
    "    \n",
    "![graph](https://www.tensorflow.org/images/tensors_flowing.gif)\n",
    "\n",
    "* 上圖就為tensorflow 圖(graph)：在tensorflow中代表整個程序的結構或是欲執行的計算任務\n",
    "* 上圖一個個的節點為tensorflow中的operation(op)\n",
    "\n",
    "    * 專門進行運算的操作節點\n",
    "    * 所有操作都是一個op\n",
    "\n",
    "* 圖(graph)需要會話(session)才能運作\n",
    "\n",
    "\n",
    "\n",
    "Important: `tf.Tensors` do not have values, they are just handles to elements\n",
    "in the computation graph.\n",
    "\n",
    "Let's build a simple computational graph. The most basic operation is a\n",
    "constant. The Python function that builds the operation takes a tensor value as\n",
    "input. The resulting operation takes no inputs. When run, it outputs the\n",
    "value that was passed to the constructor. We can create two floating point\n",
    "constants `a` and `b` as follows:"
   ]
  },
  {
   "cell_type": "code",
   "execution_count": 15,
   "metadata": {},
   "outputs": [
    {
     "name": "stdout",
     "output_type": "stream",
     "text": [
      "tf.Tensor(3.0, shape=(), dtype=float32)\n",
      "tf.Tensor(4.0, shape=(), dtype=float32)\n",
      "tf.Tensor(7.0, shape=(), dtype=float32)\n"
     ]
    }
   ],
   "source": [
    "a = tf.constant(3.0, dtype=tf.float32)\n",
    "b = tf.constant(4.0) # also tf.float32 implicitly\n",
    "total = a + b\n",
    "print(a)\n",
    "print(b)\n",
    "print(total)"
   ]
  },
  {
   "cell_type": "markdown",
   "metadata": {},
   "source": [
    "有些特別的Tensor物件分別是:\n",
    "\n",
    "  * `tf.constant`常數（Constant)\n",
    "  * `tf.Variable`變數（Variable）\n",
    "  * `tf.placeholder`佔位符(Placeholder) \n",
    "  * `tf.SparseTensor`稀疏張量(SparseTensor)\n",
    "  \n",
    "其中Variable最特別\n",
    "\n",
    "* 一般來說tensor是不可更改的物件(immutable)，但是Variable是特別的tensor物件，他具有assign方法，可以更改狀態。tensor沒有assign方法。\n",
    "* Variable可用於儲存網路內wieght等變數，而Tensor存放的是計算中間過程的結果。"
   ]
  },
  {
   "cell_type": "markdown",
   "metadata": {},
   "source": [
    "# 常數（Constant）"
   ]
  },
  {
   "cell_type": "code",
   "execution_count": 16,
   "metadata": {},
   "outputs": [
    {
     "name": "stdout",
     "output_type": "stream",
     "text": [
      "Python:\n",
      "22\n",
      "16\n",
      "57\n",
      "6.333333333333333\n",
      "6859\n",
      "1\n",
      "6\n"
     ]
    }
   ],
   "source": [
    "#In Python, constants are written in all capital letters\n",
    "print(\"Python:\")\n",
    "A = 19\n",
    "B = 3\n",
    "print(A + B)\n",
    "print(A - B)\n",
    "print(A * B)\n",
    "print(A / B)\n",
    "print(A** B)\n",
    "print(A % B)\n",
    "print(A// B)"
   ]
  },
  {
   "cell_type": "markdown",
   "metadata": {},
   "source": [
    "Tensor數值運算這些函數都必須在 TensorFlow 的 Eager Execution 模式中執行直接就有運算結果的輸出。\n",
    "\n",
    "* 加 +：tf.add()\n",
    "* 減 -： tf.sub()\n",
    "* 乘 *： tf.multiply()\n",
    "* 除 /： tf.divide()\n",
    "* 次方 **： tf.pow()"
   ]
  },
  {
   "cell_type": "code",
   "execution_count": 17,
   "metadata": {},
   "outputs": [
    {
     "name": "stdout",
     "output_type": "stream",
     "text": [
      "TensorFlow:\n",
      "tf.Tensor(22, shape=(), dtype=int32)\n",
      "tf.Tensor(16, shape=(), dtype=int32)\n",
      "tf.Tensor(57, shape=(), dtype=int32)\n",
      "tf.Tensor(6.333333333333333, shape=(), dtype=float64)\n",
      "tf.Tensor(6859, shape=(), dtype=int32)\n"
     ]
    }
   ],
   "source": [
    "x = tf.constant(19)\n",
    "y = tf.constant(3)\n",
    "\n",
    "print(\"TensorFlow:\")\n",
    "print( tf.add(x, y) )\n",
    "print( tf.subtract(x, y) )\n",
    "print( tf.multiply(x, y) )\n",
    "print( tf.divide(x, y) )\n",
    "print( tf.pow(x, y) )"
   ]
  },
  {
   "cell_type": "markdown",
   "metadata": {},
   "source": [
    "常用的常數張量建構函數有:\n",
    "* tf.zeros() ：建構內容數值皆為 0 的常數向量\n",
    "* tf.ones() ：建構內容數值皆為 1 的常數向量\n",
    "* tf.fill() ：建構內容數值皆為特定值的常數向量\n",
    "* tf.range() ：建構內容數值為 (start, limit, delta) 數列的常數向量\n",
    "* tf.random_normal() ：建構內容數值為符合常態分佈數列的常數向量\n",
    "* tf.random_uniform() ：建構內容數值為符合均勻分佈數列的常數向量\n",
    "\n",
    "常用的矩陣運算函數有:\n",
    "* tf.reshape() ：調整矩陣外觀\n",
    "* tf.eye() ：建構單位矩陣\n",
    "* tf.diag() ：建構對角矩陣\n",
    "* tf.matrix_transpose() ：轉置矩陣\n",
    "* tf.matmul() ：矩陣相乘"
   ]
  },
  {
   "cell_type": "code",
   "execution_count": 18,
   "metadata": {},
   "outputs": [
    {
     "name": "stdout",
     "output_type": "stream",
     "text": [
      "NumPy:\n",
      "[[0. 0.]\n",
      " [0. 0.]]\n",
      "[[1. 1.]\n",
      " [1. 1.]]\n",
      "[[5 5]\n",
      " [5 5]]\n",
      "[[1 3]\n",
      " [5 7]]\n",
      "[[1.92339595 0.00951787]\n",
      " [0.35296491 0.1388797 ]]\n",
      "[[0.33344648 0.29404471]\n",
      " [0.76024473 0.73728698]]\n",
      "[[1. 0.]\n",
      " [0. 1.]]\n",
      "[[0 0 0 0]\n",
      " [0 1 0 0]\n",
      " [0 0 2 0]\n",
      " [0 0 0 3]]\n",
      "[[1. 1.]\n",
      " [1. 1.]\n",
      " [1. 1.]]\n",
      "[[ 2  3]\n",
      " [ 6 11]]\n"
     ]
    }
   ],
   "source": [
    "print(\"NumPy:\")\n",
    "print(np.zeros((2, 2)))\n",
    "print(np.ones((2, 2)))\n",
    "print(np.full((2, 2), 5))\n",
    "print(np.arange(1, 9, 2).reshape(2, 2))\n",
    "print(np.random.normal(size=(2, 2)))\n",
    "print(np.random.uniform(size=(2, 2)))\n",
    "\n",
    "print(np.eye(2))\n",
    "print(np.diag(np.arange(4)))\n",
    "print(np.ones((2, 3)).T)\n",
    "print(np.dot(np.arange(4).reshape(2, 2), np.arange(4).reshape(2, 2)))"
   ]
  },
  {
   "cell_type": "code",
   "execution_count": 19,
   "metadata": {},
   "outputs": [
    {
     "name": "stdout",
     "output_type": "stream",
     "text": [
      "TensorFlow:\n",
      "tf.Tensor(\n",
      "[[0. 0.]\n",
      " [0. 0.]], shape=(2, 2), dtype=float32)\n",
      "tf.Tensor(\n",
      "[[1. 1.]\n",
      " [1. 1.]], shape=(2, 2), dtype=float32)\n",
      "tf.Tensor(\n",
      "[[5 5]\n",
      " [5 5]], shape=(2, 2), dtype=int32)\n",
      "tf.Tensor(\n",
      "[[1 3]\n",
      " [5 7]], shape=(2, 2), dtype=int32)\n",
      "tf.Tensor(\n",
      "[[0.26594338 0.92482674]\n",
      " [0.9445926  0.815058  ]], shape=(2, 2), dtype=float32)\n",
      "tf.Tensor(\n",
      "[[0.23030174 0.96823967]\n",
      " [0.16529226 0.49136364]], shape=(2, 2), dtype=float32)\n",
      "tf.Tensor(\n",
      "[[1. 0.]\n",
      " [0. 1.]], shape=(2, 2), dtype=float32)\n",
      "tf.Tensor(\n",
      "[[0 0 0 0]\n",
      " [0 1 0 0]\n",
      " [0 0 2 0]\n",
      " [0 0 0 3]], shape=(4, 4), dtype=int32)\n",
      "tf.Tensor(\n",
      "[[1. 1.]\n",
      " [1. 1.]\n",
      " [1. 1.]], shape=(3, 2), dtype=float32)\n",
      "tf.Tensor(\n",
      "[[ 2  3]\n",
      " [ 6 11]], shape=(2, 2), dtype=int32)\n"
     ]
    }
   ],
   "source": [
    "print(\"TensorFlow:\")\n",
    "zeros = tf.zeros((2, 2))\n",
    "ones = tf.ones((2, 2))\n",
    "fills = tf.fill((2, 2), 5)\n",
    "ranges = tf.reshape(tf.range(1, 9, 2), (2, 2))\n",
    "normals = tf.random.normal((2, 2))\n",
    "uniforms = tf.random.uniform((2, 2))\n",
    "eye = tf.eye(2)\n",
    "diag = tf.linalg.diag(tf.range(4))\n",
    "transpose = tf.linalg.matrix_transpose(tf.ones((2, 3)))\n",
    "x = tf.reshape(tf.range(4), (2, 2))\n",
    "multiply = tf.matmul(x, x)\n",
    "matrice = [eye, diag, transpose, multiply]\n",
    "initializations = [zeros, ones, fills, ranges, normals, uniforms, eye, diag, transpose, multiply]\n",
    "\n",
    "for i in initializations:\n",
    "    print(i)"
   ]
  },
  {
   "cell_type": "markdown",
   "metadata": {},
   "source": [
    "# 變數（Variable）\n",
    "\n",
    "程式設計中為了保持彈性，必須將值賦與給變數（Variables），讓使用者能夠動態地進行相同的計算來得到不同的結果，這在 TensorFlow 中是以 tf.Variable() 來完成。\n",
    "\n",
    "但宣告變數張量並不如 Python 或者先前宣告常數張量那麼單純，它需要兩個步驟：\n",
    "\n",
    "1. 宣告變數張量的初始值、類型與外觀\n",
    "2. 初始化變數張量"
   ]
  },
  {
   "cell_type": "code",
   "execution_count": 20,
   "metadata": {},
   "outputs": [
    {
     "name": "stdout",
     "output_type": "stream",
     "text": [
      "Python:\n",
      "47\n"
     ]
    }
   ],
   "source": [
    "var_py = 47\n",
    "print(\"Python:\")\n",
    "print(var_py)"
   ]
  },
  {
   "cell_type": "code",
   "execution_count": 21,
   "metadata": {},
   "outputs": [
    {
     "name": "stdout",
     "output_type": "stream",
     "text": [
      "TensorFlow:\n",
      "<tf.Variable 'Variable:0' shape=() dtype=int32, numpy=47>\n"
     ]
    }
   ],
   "source": [
    "# TensorFlow: FailedPreconditionError\n",
    "var_tf = tf.Variable(47)\n",
    "print(\"TensorFlow:\")\n",
    "print(var_tf)"
   ]
  },
  {
   "cell_type": "markdown",
   "metadata": {},
   "source": [
    "初始化成功後的變數張量，可以透過 .assign() 方法重新賦予不同值。\n",
    "\n",
    "重新賦値這件事對 TensorFlow 來說也是一個運算，必須在宣告之後放入 Session 中執行，否則重新賦值並不會有作用。\n",
    "\n",
    "重新賦值時必須要注意類型，賦予不同類型的值會得到 TypeError。\n",
    "\n",
    "不僅是值的類型，外觀也必須跟當初所宣告的相同，賦予不同外觀的值會得到 ValueError。"
   ]
  },
  {
   "cell_type": "code",
   "execution_count": 22,
   "metadata": {},
   "outputs": [
    {
     "name": "stdout",
     "output_type": "stream",
     "text": [
      "Before assign <tf.Variable 'Variable:0' shape=() dtype=int32, numpy=47>\n",
      "After assign <tf.Variable 'Variable:0' shape=() dtype=int32, numpy=24>\n"
     ]
    }
   ],
   "source": [
    "var_tf = tf.Variable(47)\n",
    "print('Before assign',var_tf)\n",
    "\n",
    "var_tf.assign(24)\n",
    "print('After assign',var_tf)\n"
   ]
  }
 ],
 "metadata": {
  "kernelspec": {
   "display_name": "py39-tf2-gpu",
   "language": "python",
   "name": "py39-tf2-gpu"
  },
  "language_info": {
   "codemirror_mode": {
    "name": "ipython",
    "version": 3
   },
   "file_extension": ".py",
   "mimetype": "text/x-python",
   "name": "python",
   "nbconvert_exporter": "python",
   "pygments_lexer": "ipython3",
   "version": "3.9.7"
  }
 },
 "nbformat": 4,
 "nbformat_minor": 4
}
